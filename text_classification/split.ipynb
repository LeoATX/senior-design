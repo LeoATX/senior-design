{
 "cells": [
  {
   "cell_type": "code",
   "execution_count": 17,
   "metadata": {},
   "outputs": [
    {
     "name": "stdout",
     "output_type": "stream",
     "text": [
      "Created: data_v2/neutral\\commands_1.txt\n",
      "Created: data_v2/neutral\\commands_2.txt\n"
     ]
    }
   ],
   "source": [
    "import pandas as pd\n",
    "import os\n",
    "\n",
    "def csv_to_text_files(csv_file, output_dir):\n",
    "    # Create the output directory if it doesn't exist\n",
    "    if not os.path.exists(output_dir):\n",
    "        os.makedirs(output_dir)\n",
    "\n",
    "    # Read the CSV file into a pandas DataFrame\n",
    "    df = pd.read_csv(csv_file, on_bad_lines='skip')\n",
    "\n",
    "    # Loop through each row in the DataFrame\n",
    "    for index, row in df.iterrows():\n",
    "        # Create a new text file for each row\n",
    "        text_file_path = os.path.join(output_dir, f\"commands_{index + 1}.txt\")\n",
    "\n",
    "        # Write the contents of the row to the text file\n",
    "        with open(text_file_path, 'w', encoding='utf-8') as text_file:\n",
    "            text_file.write('\\n'.join(row.astype(str)))  # Convert each value to string and join with new lines\n",
    "\n",
    "        print(f\"Created: {text_file_path}\")\n",
    "\n",
    "# Example usage\n",
    "csv_file_path = 'data_v2/neutral/neutral.csv'  # Path to your CSV file\n",
    "output_directory = 'data_v2/neutral'  # Directory where text files will be saved\n",
    "\n",
    "csv_to_text_files(csv_file_path, output_directory)"
   ]
  }
 ],
 "metadata": {
  "kernelspec": {
   "display_name": "myenv1",
   "language": "python",
   "name": "python3"
  },
  "language_info": {
   "codemirror_mode": {
    "name": "ipython",
    "version": 3
   },
   "file_extension": ".py",
   "mimetype": "text/x-python",
   "name": "python",
   "nbconvert_exporter": "python",
   "pygments_lexer": "ipython3",
   "version": "3.12.6"
  }
 },
 "nbformat": 4,
 "nbformat_minor": 2
}

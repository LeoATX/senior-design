{
 "cells": [
  {
   "cell_type": "code",
   "execution_count": 6,
   "metadata": {},
   "outputs": [],
   "source": [
    "import io\n",
    "from google.oauth2 import service_account\n",
    "from google.cloud import speech\n",
    "\n",
    "client_file = 'speech_api_keys.json'\n",
    "credentials = service_account.Credentials.from_service_account_file(client_file)\n",
    "client = speech.SpeechClient(credentials=credentials)"
   ]
  },
  {
   "cell_type": "code",
   "execution_count": 7,
   "metadata": {},
   "outputs": [
    {
     "name": "stdout",
     "output_type": "stream",
     "text": [
      "transcript: \"give me the Eraser I think\"\n",
      "confidence: 0.9429993033409119\n",
      "\n"
     ]
    }
   ],
   "source": [
    "audio_file = 'Maria.wav'\n",
    "with io.open(audio_file,'rb') as f:\n",
    "    content = f.read()\n",
    "    audio = speech.RecognitionAudio(content=content)\n",
    "\n",
    "config = speech.RecognitionConfig(\n",
    "    encoding = speech.RecognitionConfig.AudioEncoding.LINEAR16,\n",
    "    sample_rate_hertz = 48000,\n",
    "    language_code = 'en-US'\n",
    ")\n",
    "\n",
    "response = client.recognize(config=config, audio=audio)\n",
    "print(response.results[0].alternatives[0])"
   ]
  }
 ],
 "metadata": {
  "kernelspec": {
   "display_name": "myenv6",
   "language": "python",
   "name": "python3"
  },
  "language_info": {
   "codemirror_mode": {
    "name": "ipython",
    "version": 3
   },
   "file_extension": ".py",
   "mimetype": "text/x-python",
   "name": "python",
   "nbconvert_exporter": "python",
   "pygments_lexer": "ipython3",
   "version": "3.11.5"
  }
 },
 "nbformat": 4,
 "nbformat_minor": 2
}

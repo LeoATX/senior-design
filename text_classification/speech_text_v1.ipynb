{
 "cells": [
  {
   "cell_type": "code",
   "execution_count": 1,
   "metadata": {},
   "outputs": [
    {
     "name": "stdout",
     "output_type": "stream",
     "text": [
      "Listening... Press Ctrl+C to stop.\n",
      "Transcript: to the mic um\n",
      "Transcript:  hello\n",
      "Transcript:  oh\n",
      "Transcript:  hear me the eraser\n",
      "Transcript:  hand me the eraser\n",
      "Stopping...\n"
     ]
    }
   ],
   "source": [
    "import io\n",
    "import pyaudio\n",
    "from google.oauth2 import service_account\n",
    "from google.cloud import speech\n",
    "\n",
    "client_file = 'speech_api_keys.json'\n",
    "credentials = service_account.Credentials.from_service_account_file(client_file)\n",
    "client = speech.SpeechClient(credentials=credentials)\n",
    "\n",
    "RATE = 16000\n",
    "CHUNK = int(RATE / 10)\n",
    "\n",
    "audio_interface = pyaudio.PyAudio()\n",
    "stream = audio_interface.open(format=pyaudio.paInt16,\n",
    "                              channels=1,\n",
    "                              rate=RATE,\n",
    "                              input=True,\n",
    "                              frames_per_buffer=CHUNK)\n",
    "\n",
    "config = speech.RecognitionConfig(\n",
    "    encoding=speech.RecognitionConfig.AudioEncoding.LINEAR16,\n",
    "    sample_rate_hertz=RATE,\n",
    "    language_code='en-US'\n",
    ")\n",
    "streaming_config = speech.StreamingRecognitionConfig(config=config, interim_results=True)\n",
    "\n",
    "def generate_audio_chunks():\n",
    "    while True:\n",
    "        yield speech.StreamingRecognizeRequest(audio_content=stream.read(CHUNK))\n",
    "\n",
    "responses = client.streaming_recognize(config=streaming_config, requests=generate_audio_chunks())\n",
    "\n",
    "try:\n",
    "    print(\"Listening... Press Ctrl+C to stop.\")\n",
    "    for response in responses:\n",
    "        for result in response.results:\n",
    "            if result.is_final:\n",
    "                print(\"Transcript:\", result.alternatives[0].transcript)\n",
    "except KeyboardInterrupt:\n",
    "    print(\"Stopping...\")\n",
    "finally:\n",
    "    # Clean up\n",
    "    stream.stop_stream()\n",
    "    stream.close()\n",
    "    audio_interface.terminate()"
   ]
  }
 ],
 "metadata": {
  "kernelspec": {
   "display_name": "Python 3",
   "language": "python",
   "name": "python3"
  },
  "language_info": {
   "codemirror_mode": {
    "name": "ipython",
    "version": 3
   },
   "file_extension": ".py",
   "mimetype": "text/x-python",
   "name": "python",
   "nbconvert_exporter": "python",
   "pygments_lexer": "ipython3",
   "version": "3.11.4"
  }
 },
 "nbformat": 4,
 "nbformat_minor": 2
}

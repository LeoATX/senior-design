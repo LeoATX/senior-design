{
 "cells": [
  {
   "cell_type": "code",
   "execution_count": 2,
   "metadata": {},
   "outputs": [
    {
     "name": "stdout",
     "output_type": "stream",
     "text": [
      "[10/30 23:27:42.818751][info][1591607][Context.cpp:69] Context created with config: default config!\n",
      "[10/30 23:27:42.818769][info][1591607][Context.cpp:74] Context work_dir=/Users/leochen/Developer/senior-design/object_detection\n",
      "[10/30 23:27:42.818771][info][1591607][Context.cpp:77] \t- SDK version: 1.9.4\n",
      "[10/30 23:27:42.818772][info][1591607][Context.cpp:78] \t- SDK stage version: main\n",
      "[10/30 23:27:42.818775][info][1591607][Context.cpp:82] get config EnumerateNetDevice:false\n",
      "[10/30 23:27:42.818776][info][1591607][MacPal.cpp:36] createObPal: create MacPal!\n",
      "[10/30 23:27:42.818987][info][1591607][MacPal.cpp:104] Create PollingDeviceWatcher!\n",
      "[10/30 23:27:42.818993][info][1591607][DeviceManager.cpp:15] Current found device(s): (0)\n",
      "[10/30 23:27:42.818996][info][1591607][Pipeline.cpp:15] Try to create pipeline with default device.\n",
      "[10/30 23:27:42.818998][warning][1591607][ObException.cpp:5] No device found, fail to create pipeline!\n",
      "[10/30 23:27:42.819122][info][1591607][Context.cpp:90] Context destroyed\n"
     ]
    },
    {
     "name": "stderr",
     "output_type": "stream",
     "text": [
      "OpenCV: out device of bound (0-1): -1\n",
      "OpenCV: camera failed to properly initialize!\n",
      "[ WARN:0@8.381] global cap.cpp:323 open VIDEOIO(OBSENSOR): raised unknown C++ exception!\n",
      "\n",
      "\n"
     ]
    },
    {
     "ename": "error",
     "evalue": "OpenCV(4.10.0) /Users/xperience/GHA-Actions-OpenCV/_work/opencv-python/opencv-python/opencv/modules/imgproc/src/resize.cpp:4152: error: (-215:Assertion failed) !ssize.empty() in function 'resize'\n",
     "output_type": "error",
     "traceback": [
      "\u001b[0;31m---------------------------------------------------------------------------\u001b[0m",
      "\u001b[0;31merror\u001b[0m                                     Traceback (most recent call last)",
      "Cell \u001b[0;32mIn[2], line 27\u001b[0m\n\u001b[1;32m     23\u001b[0m _, frame \u001b[38;5;241m=\u001b[39m video\u001b[38;5;241m.\u001b[39mread()\n\u001b[1;32m     25\u001b[0m \u001b[38;5;66;03m#Convert the captured frame into RGB\u001b[39;00m\n\u001b[1;32m     26\u001b[0m \u001b[38;5;66;03m# im = Image.fromarray(frame, 'RGB')\u001b[39;00m\n\u001b[0;32m---> 27\u001b[0m frame \u001b[38;5;241m=\u001b[39m \u001b[43mcv2\u001b[49m\u001b[38;5;241;43m.\u001b[39;49m\u001b[43mresize\u001b[49m\u001b[43m(\u001b[49m\u001b[43msrc\u001b[49m\u001b[38;5;241;43m=\u001b[39;49m\u001b[43mframe\u001b[49m\u001b[43m,\u001b[49m\u001b[43m \u001b[49m\u001b[43mdsize\u001b[49m\u001b[38;5;241;43m=\u001b[39;49m\u001b[43m(\u001b[49m\u001b[38;5;241;43m640\u001b[39;49m\u001b[43m,\u001b[49m\u001b[43m \u001b[49m\u001b[38;5;241;43m640\u001b[39;49m\u001b[43m)\u001b[49m\u001b[43m)\u001b[49m\n\u001b[1;32m     29\u001b[0m \u001b[38;5;66;03m#Resizing into dimensions you used while training\u001b[39;00m\n\u001b[1;32m     30\u001b[0m keras_frame \u001b[38;5;241m=\u001b[39m keras\u001b[38;5;241m.\u001b[39mutils\u001b[38;5;241m.\u001b[39mimg_to_array(frame)\n",
      "\u001b[0;31merror\u001b[0m: OpenCV(4.10.0) /Users/xperience/GHA-Actions-OpenCV/_work/opencv-python/opencv-python/opencv/modules/imgproc/src/resize.cpp:4152: error: (-215:Assertion failed) !ssize.empty() in function 'resize'\n"
     ]
    }
   ],
   "source": [
    "import cv2\n",
    "import keras\n",
    "import keras_cv\n",
    "\n",
    "# model = keras_cv.models.YOLOV8Detector.from_preset(\n",
    "#     preset='yolo_v8_m_pascalvoc',\n",
    "#     load_weights=True,\n",
    "#     num_classes=20,\n",
    "#     bounding_box_format='XYXY'\n",
    "# )\n",
    "\n",
    "model = keras_cv.models.RetinaNet.from_preset(\n",
    "    preset='retinanet_resnet50_pascalvoc',\n",
    "    load_weights=True,\n",
    "    num_classes=20,\n",
    "    bounding_box_format='XYXY'\n",
    ")\n",
    "video = cv2.VideoCapture(0)\n",
    "\n",
    "DEBUG = False\n",
    "\n",
    "while True:\n",
    "    _, frame = video.read()\n",
    "\n",
    "    #Convert the captured frame into RGB\n",
    "    # im = Image.fromarray(frame, 'RGB')\n",
    "    frame = cv2.resize(src=frame, dsize=(640, 640))\n",
    "\n",
    "    #Resizing into dimensions you used while training\n",
    "    keras_frame = keras.utils.img_to_array(frame)\n",
    "\n",
    "    #Expand dimensions to match the 4D Tensor shape.\n",
    "    keras_frame = keras.ops.expand_dims(x=keras_frame, axis=0)\n",
    "    print(keras_frame.shape) if DEBUG else None\n",
    "\n",
    "    #Calling the predict function using keras\n",
    "    predictions = model.predict(keras_frame)\n",
    "    # print(predictions)\n",
    "    # print(predictions['num_detections'][0])\n",
    "\n",
    "    for index in range(predictions['num_detections'][0]):\n",
    "        box = predictions['boxes'][0][index]\n",
    "        print(box) if DEBUG else None\n",
    "        x1, y1, x2, y2 = [int(item) for item in box[0:4]]\n",
    "        print(x1, y1, x2, y2) if DEBUG else None\n",
    "        box_conf = predictions['confidence'][0][index]\n",
    "        box_class = predictions['classes'][0][index]\n",
    "\n",
    "        # Draw bounding box and label on the frame\n",
    "        label = f'{box_class}: {box_conf}'\n",
    "        cv2.rectangle(frame, (x1, y1), (x2, y2), (255, 0, 0), 2)\n",
    "        cv2.putText(frame, label, (x1, y1 - 10), cv2.FONT_HERSHEY_SIMPLEX, 0.5, (255, 0, 0), 2)\n",
    "\n",
    "    cv2.imshow('RetinaNet PASCAL VOC', frame)\n",
    "\n",
    "    key=cv2.waitKey(1)\n",
    "    if key == ord('q'):\n",
    "        break\n",
    "        \n",
    "\n",
    "video.release()\n",
    "cv2.destroyAllWindows()"
   ]
  }
 ],
 "metadata": {
  "kernelspec": {
   "display_name": ".venv",
   "language": "python",
   "name": "python3"
  },
  "language_info": {
   "codemirror_mode": {
    "name": "ipython",
    "version": 3
   },
   "file_extension": ".py",
   "mimetype": "text/x-python",
   "name": "python",
   "nbconvert_exporter": "python",
   "pygments_lexer": "ipython3",
   "version": "3.11.9"
  }
 },
 "nbformat": 4,
 "nbformat_minor": 2
}
